{
 "cells": [
  {
   "cell_type": "markdown",
   "metadata": {},
   "source": [
    "test error = 100 <--High Variance--> Test error = 27"
   ]
  },
  {
   "cell_type": "markdown",
   "metadata": {},
   "source": [
    "This is a case of high variance. Here the test error is varies greatly based on the selection of the training dataset."
   ]
  },
  {
   "cell_type": "markdown",
   "metadata": {},
   "source": [
    "Test error = 47 <--Low Variance--> Test error = 37\n",
    "\n",
    "Train error = 43 <--High Bias--> Train error = 41"
   ]
  },
  {
   "cell_type": "markdown",
   "metadata": {},
   "source": [
    "**Bias** is a measurement of how accuretely a model can capture a pattern in a training dataset. in above case since train error is big it is said to have a **high bias**"
   ]
  },
  {
   "cell_type": "markdown",
   "metadata": {},
   "source": [
    "Test error = 12 <--Low Variance--> Test error = 15\n",
    "\n",
    "Train error = 10 <--Low Bias--> Train error = 11"
   ]
  },
  {
   "cell_type": "markdown",
   "metadata": {},
   "source": [
    "**Balanced fit** above"
   ]
  },
  {
   "cell_type": "markdown",
   "metadata": {},
   "source": [
    "### Ways to get balanced fit model"
   ]
  },
  {
   "cell_type": "markdown",
   "metadata": {},
   "source": [
    "- Cross validation, eg- k fold cross validation\n",
    "- Regularization, eg- L1 and L2 Regularization\n",
    "- Dimensionality Reductiohn, eg- PCA\n",
    "- Ensemble Techniques, eg -Bagging, Boosting"
   ]
  }
 ],
 "metadata": {
  "kernelspec": {
   "display_name": "Python 3.10.5 ('minimal_ds')",
   "language": "python",
   "name": "python3"
  },
  "language_info": {
   "codemirror_mode": {
    "name": "ipython",
    "version": 3
   },
   "file_extension": ".py",
   "mimetype": "text/x-python",
   "name": "python",
   "nbconvert_exporter": "python",
   "pygments_lexer": "ipython3",
   "version": "3.10.5"
  },
  "orig_nbformat": 4,
  "vscode": {
   "interpreter": {
    "hash": "6b939c7e6ec3c1099ad698f283bbd73d8b37067c80752770296ee97f845b4c5e"
   }
  }
 },
 "nbformat": 4,
 "nbformat_minor": 2
}
